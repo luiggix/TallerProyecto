{
 "cells": [
  {
   "cell_type": "markdown",
   "metadata": {
    "id": "ggZ0k4gqG4Jn"
   },
   "source": [
    "## Modelo matemático\n",
    "Un modelo matemático que describe la conducción de calor es el siguiente:\n",
    "\n",
    "$\\displaystyle\n",
    "\\nabla \\cdot \\left( \\kappa \\nabla T \\right) = -q\n",
    "$\n",
    "\n",
    "donde $\\kappa$ representa la conductividad térmica y $q$ una fuente de energía calorífica.\n",
    "\n",
    "Si quisieramos determinar la distribución de temperaturas en una barra de metal, con $\\kappa$ = cte., usaríamos un modelo en una dimensión que se puede escribir como sigue:\n",
    "\n",
    "$\n",
    "\\displaystyle\n",
    "\\kappa \\frac{d^2 T}{d x^2} = -q\n",
    "$\n",
    "\n",
    "La barra tiene una temperatura $T_A$ en su extremo izquierdo y otra temperatura $T_B$ en su extremo derecho y además consideramos que $q$ = cte.\n",
    "\n",
    "En este caso particular, la solución se puede obtener de manera analítica, de tal manera que es posible encontrar una función $T(x)$ que proporcione la temperatura en cada posición $x$. También es posible aproximar la solución mediante técnicas numéricas. Veremos ambos casos a continuación, en los cuales se hace uso de las Series de Taylor."
   ]
  },
  {
   "cell_type": "markdown",
   "metadata": {
    "id": "BMVAQypGG4Jo"
   },
   "source": [
    "## Solución analítica\n",
    "Es posible obtener una función $T(x)$ que describa la distribución de temperaturas a lo largo de dicha barra. Para ello vamos a escribir $T(x)$ en forma de una serie Taylor\n",
    "\n",
    "$\n",
    "\\displaystyle\n",
    "T_n(x) = \\sum_{i=0}^n T^{(i)}(a)\\frac{(x-a)^i}{i!} = \\sum_{i=0}^n c_i (x-a)^i\n",
    "$\n",
    "\n",
    "donde $\\displaystyle c_i = \\frac{T^{(i)}(a)}{i!}$.\n",
    "\n",
    "Definimos ahora una aproximación alrededor de $a = 0$ para $n = 2$ con lo que obtenemos:\n",
    "\n",
    "\n",
    "$\\displaystyle\n",
    "T(x) = c_0 + c_1 *x + c_2 * x^2\n",
    "$\n",
    "\n",
    "Calculamos la primera y segunda derivadas de $T(x)$:\n",
    "\n",
    "$\n",
    "\\begin{eqnarray}\n",
    "\\frac{d T(x)}{d x} & = & c_1 + 2 * c_2 * x \\\\\n",
    "\\frac{d^2 T(x)}{d x^2} & = & 2 * c_2 \\\\\n",
    "\\end{eqnarray}\n",
    "$\n",
    "\n",
    "Sustituyendo esta segunda derivada en la ecuación de conducción de calor obtenemos:\n",
    "\n",
    "$\n",
    "\\displaystyle\n",
    "\\kappa (2 * c_2 ) = -q \\Longrightarrow \\boxed{c_2 = -\\frac{q}{2 \\kappa}}\n",
    "$\n",
    "\n",
    "Para obtener $c_0$ y $c_1$ hacemos uso de las condiciones de frontera en $T(x)$:\n",
    "\n",
    "$\\displaystyle\n",
    "\\begin{eqnarray}\n",
    "\\text{Extremo izquierdo: } T(x=0) & = & c_0 + c_1 * 0 + c_2 * 0^2 = T_A  \\\\\n",
    "&\\Longrightarrow& \\boxed{c_0 = T_A} \\\\\n",
    "\\text{Extremo derecho: } T(x=L) & = & c_0 + c_1 * L + c_2 * L^2 = T_A + c_1 * L - \\frac{q}{2 \\kappa} * L^2 =\n",
    "T_B \\\\\n",
    "&\\Longrightarrow& \\boxed{c_1 = \\left(T_B - T_A + \\frac{q L^2}{2 \\kappa}\\right)\\frac{1}{L}}\n",
    "\\end{eqnarray}\n",
    "$\n",
    "\n",
    "De esta manera tenemos que la solución final es:\n",
    "\n",
    "$\\displaystyle\n",
    "T(x) = T_A + \\left(T_B - T_A + \\frac{q L^2}{2 \\kappa}\\right)\\frac{1}{L} x - \\frac{q}{2 \\kappa} x^2 =\n",
    "\\boxed{\\left(\\frac{T_B - T_A}{L} + \\frac{q}{2\\kappa} \\left(L - x\\right) \\right)x + T_A}\n",
    "$\n",
    "\n",
    "Implementamos esta solución en una función de Python:"
   ]
  },
  {
   "cell_type": "markdown",
   "metadata": {},
   "source": [
    "<div class=\"alert alert-success\">\n",
    "\n",
    "## **Ejercicio 1.**\n",
    "Evaluar $T(x) = \\left(\\frac{T_B - T_A}{L} + \\frac{q}{2\\kappa} \\left(L - x\\right) \\right)x + T_A$ usando los siguientes datos:\n",
    "\n",
    "- $\\kappa = 1000$ [W /m $^o$C]\n",
    "- $L = 0.5$ [m]\n",
    "- $T_A = 100$ [$^o$C]\n",
    "- $T_B = 500$ [$^o$C]\n",
    "- $q = 0$\n",
    "\n",
    "</div>"
   ]
  },
  {
   "cell_type": "code",
   "execution_count": null,
   "metadata": {},
   "outputs": [],
   "source": [
    "# Datos del problema\n",
    "k = 1000 \n",
    "L = 0.5  \n",
    "TA = 100\n",
    "TB = 500 \n",
    "q = 0"
   ]
  },
  {
   "cell_type": "markdown",
   "metadata": {},
   "source": [
    "Impresión de los datos:"
   ]
  },
  {
   "cell_type": "code",
   "execution_count": null,
   "metadata": {},
   "outputs": [],
   "source": [
    "print(k, L, TA, TB, q)"
   ]
  },
  {
   "cell_type": "markdown",
   "metadata": {},
   "source": [
    "Impresión del tipo de dato:"
   ]
  },
  {
   "cell_type": "code",
   "execution_count": null,
   "metadata": {},
   "outputs": [],
   "source": [
    "print(type(k))"
   ]
  },
  {
   "cell_type": "markdown",
   "metadata": {},
   "source": [
    "Evaluación de la fórmula para un valor de $x$:"
   ]
  },
  {
   "cell_type": "code",
   "execution_count": null,
   "metadata": {},
   "outputs": [],
   "source": [
    "x = 0.0\n",
    "T0 = ((TB - TA)/L + q /(2*k) * (L - x) ) * x + TA\n",
    "print(T0)"
   ]
  },
  {
   "cell_type": "markdown",
   "metadata": {},
   "source": [
    "Evaluación para varios valores de $x$:"
   ]
  },
  {
   "cell_type": "code",
   "execution_count": null,
   "metadata": {},
   "outputs": [],
   "source": [
    "# Definimos una lista\n",
    "xl = [0.0, 0.25 * L, 0.75 * L, L]\n",
    "xl"
   ]
  },
  {
   "cell_type": "code",
   "execution_count": null,
   "metadata": {},
   "outputs": [],
   "source": [
    "# Intentamos evaluar la fórmula usando la lista:\n",
    "((TB - TA)/L + q /(2*k) * (L - xl) ) * xl + TA"
   ]
  },
  {
   "cell_type": "code",
   "execution_count": null,
   "metadata": {},
   "outputs": [],
   "source": [
    "# Para cada elemento de la lista evaluamos la fórmula\n",
    "for x in xl:\n",
    "    print( ((TB - TA)/L + q /(2*k) * (L - x) ) * x + TA )"
   ]
  },
  {
   "cell_type": "markdown",
   "metadata": {},
   "source": [
    "Listas comprimidas (*list comprehensions*)"
   ]
  },
  {
   "cell_type": "code",
   "execution_count": null,
   "metadata": {},
   "outputs": [],
   "source": [
    "[i for i in range(0,11) ]"
   ]
  },
  {
   "cell_type": "code",
   "execution_count": null,
   "metadata": {},
   "outputs": [],
   "source": [
    "[L * i / 10 for i in range(0,11)]"
   ]
  },
  {
   "cell_type": "code",
   "execution_count": null,
   "metadata": {},
   "outputs": [],
   "source": [
    "N = 10\n",
    "[L * i / N for i in range(0,N+1)]"
   ]
  },
  {
   "cell_type": "code",
   "execution_count": null,
   "metadata": {},
   "outputs": [],
   "source": [
    "N = 21\n",
    "xlc = [L * i / N for i in range(0,N+1)]"
   ]
  },
  {
   "cell_type": "code",
   "execution_count": null,
   "metadata": {},
   "outputs": [],
   "source": [
    "print(xlc)"
   ]
  },
  {
   "cell_type": "code",
   "execution_count": null,
   "metadata": {},
   "outputs": [],
   "source": [
    "for x in xlc:\n",
    "    print( ((TB - TA)/L + q /(2*k) * (L - x) ) * x + TA )"
   ]
  },
  {
   "cell_type": "markdown",
   "metadata": {},
   "source": [
    "Almacenamiento de los valores de $T(x)$ en una lista"
   ]
  },
  {
   "cell_type": "code",
   "execution_count": null,
   "metadata": {},
   "outputs": [],
   "source": [
    "# Creamos una lista vacía\n",
    "T = []"
   ]
  },
  {
   "cell_type": "code",
   "execution_count": null,
   "metadata": {},
   "outputs": [],
   "source": [
    "# Calculamos la fórmula\n",
    "for x in xlc:\n",
    "    T.append( ((TB - TA)/L + q /(2*k) * (L - x) ) * x + TA )"
   ]
  },
  {
   "cell_type": "code",
   "execution_count": null,
   "metadata": {},
   "outputs": [],
   "source": [
    "print(T)"
   ]
  },
  {
   "cell_type": "markdown",
   "metadata": {},
   "source": [
    "<div class=\"alert alert-success\">\n",
    "\n",
    "## **Ejercicio 2.**\n",
    "Crear una función de Python para evaluar $T(x) = \\left(\\frac{T_B - T_A}{L} + \\frac{q}{2\\kappa} \\left(L - x\\right) \\right)x + T_A$.\n",
    "\n",
    "</div>"
   ]
  },
  {
   "cell_type": "code",
   "execution_count": null,
   "metadata": {
    "id": "wF7hM0nuG4Jp",
    "tags": []
   },
   "outputs": [],
   "source": [
    "def temperatura(x, TA, TB, L, k, q):\n",
    "    \"\"\"\n",
    "    Calcula la temperatura usando la fórmula obtenida con Series de Taylor.\n",
    "    \"\"\"\n",
    "    return ((TB - TA)/L + q /(2*k) * (L - x) ) * x + TA"
   ]
  },
  {
   "cell_type": "code",
   "execution_count": null,
   "metadata": {},
   "outputs": [],
   "source": [
    "# Datos físicos\n",
    "k = 1000\n",
    "L = 0.5\n",
    "TA = 100\n",
    "TB = 500\n",
    "q = 0\n",
    "\n",
    "# Datos numéricos\n",
    "N = 21\n",
    "xlc = [L * i / N for i in range(0,N+1)]"
   ]
  },
  {
   "cell_type": "code",
   "execution_count": null,
   "metadata": {},
   "outputs": [],
   "source": [
    "# Calculamos la fórmula\n",
    "for x in xlc:\n",
    "    temperatura(x, TA, TB, L, k, q)"
   ]
  },
  {
   "cell_type": "markdown",
   "metadata": {},
   "source": [
    "* Imprimir los resultados al vuelo\n",
    "* Almacenar los valores de $T$ en una lista y luego imprimirlos."
   ]
  },
  {
   "cell_type": "code",
   "execution_count": null,
   "metadata": {},
   "outputs": [],
   "source": []
  },
  {
   "cell_type": "code",
   "execution_count": null,
   "metadata": {},
   "outputs": [],
   "source": []
  },
  {
   "cell_type": "markdown",
   "metadata": {},
   "source": [
    "<div class=\"alert alert-success\">\n",
    "\n",
    "## **Ejercicio 3.**\n",
    "Evaluar la función `temperatura()` usando la biblioteca `numpy`.\n",
    "\n",
    "</div>"
   ]
  },
  {
   "cell_type": "code",
   "execution_count": null,
   "metadata": {},
   "outputs": [],
   "source": [
    "import numpy as np"
   ]
  },
  {
   "cell_type": "code",
   "execution_count": null,
   "metadata": {},
   "outputs": [],
   "source": [
    "x = np.linspace(0,L,N)\n",
    "x"
   ]
  },
  {
   "cell_type": "code",
   "execution_count": null,
   "metadata": {},
   "outputs": [],
   "source": [
    "type(x)"
   ]
  },
  {
   "cell_type": "markdown",
   "metadata": {},
   "source": [
    "Algunos atributos del arreglo:"
   ]
  },
  {
   "cell_type": "code",
   "execution_count": null,
   "metadata": {},
   "outputs": [],
   "source": [
    "print(type(x))    # tipo de x\n",
    "print(x.dtype)    # tipo de cada elemento de x\n",
    "print(x.ndim)     # dimensión del arreglo\n",
    "print(x.shape)    # forma del arreglo\n",
    "print(x.itemsize) # tamaño de cada elemento de x\n",
    "print(x.size)     # total de elementos de x"
   ]
  },
  {
   "cell_type": "code",
   "execution_count": null,
   "metadata": {},
   "outputs": [],
   "source": [
    "info_array = lambda x: print(f' tipo  : {type(x)} \\n dtype : {x.dtype} \\n dim   : {x.ndim} \\n shape : {x.shape} \\n size(bytes) : {x.itemsize} \\n size(elements) : {x.size}')"
   ]
  },
  {
   "cell_type": "code",
   "execution_count": null,
   "metadata": {},
   "outputs": [],
   "source": [
    "info_array(x)"
   ]
  },
  {
   "cell_type": "markdown",
   "metadata": {},
   "source": [
    "¿Podremos evaluar la función `temperatura()` usando el arreglo `x`?"
   ]
  },
  {
   "cell_type": "code",
   "execution_count": null,
   "metadata": {},
   "outputs": [],
   "source": [
    "temperatura(x, TA, TB, L, k, q)"
   ]
  },
  {
   "cell_type": "code",
   "execution_count": null,
   "metadata": {},
   "outputs": [],
   "source": [
    "T = temperatura(x, TA, TB, L, k, q)"
   ]
  },
  {
   "cell_type": "code",
   "execution_count": null,
   "metadata": {},
   "outputs": [],
   "source": [
    "T"
   ]
  },
  {
   "cell_type": "markdown",
   "metadata": {},
   "source": [
    "<div class=\"alert alert-success\">\n",
    "\n",
    "## **Ejercicio 4.**\n",
    "Graficar la temperatura usando la biblioteca `matplotlib`.\n",
    "\n",
    "</div>"
   ]
  },
  {
   "cell_type": "code",
   "execution_count": null,
   "metadata": {},
   "outputs": [],
   "source": [
    "import matplotlib.pyplot as plt"
   ]
  },
  {
   "cell_type": "code",
   "execution_count": null,
   "metadata": {},
   "outputs": [],
   "source": [
    "plt.plot(T)"
   ]
  },
  {
   "cell_type": "code",
   "execution_count": null,
   "metadata": {},
   "outputs": [],
   "source": [
    "plt.plot(x, T)"
   ]
  },
  {
   "cell_type": "code",
   "execution_count": null,
   "metadata": {},
   "outputs": [],
   "source": [
    "# Personalización de la gráfica\n",
    "plt.figure(figsize=(6,3))\n",
    "plt.xlabel('$x$ [m]')\n",
    "plt.ylabel('$T$ [$^oC$]')\n",
    "\n",
    "# Graficación de la Temperatura\n",
    "plt.plot(x,T,color='k', lw = 2.0)\n",
    "\n",
    "plt.show()"
   ]
  },
  {
   "cell_type": "code",
   "execution_count": null,
   "metadata": {
    "id": "Y-M2C5W2G4Jv",
    "tags": []
   },
   "outputs": [],
   "source": [
    "# Personalización de la gráfica\n",
    "plt.figure(figsize=(6,3))\n",
    "plt.title('Transferencia de calor')\n",
    "plt.xlabel('$x$ [m]')\n",
    "plt.ylabel('$T$ [$^oC$]')\n",
    "\n",
    "# Realizamos la gráfica con una línea \n",
    "plt.plot(x, T, color='k', lw =1.0)\n",
    "\n",
    "# Graficamos puntos con un color dependiendo de su temperatura\n",
    "s = plt.scatter(x, T, c=T, cmap='jet', s=80, alpha=0.5)\n",
    "\n",
    "# Se muestra una barra de color \n",
    "plt.colorbar(s) \n",
    "\n",
    "#plt.savefig('temperatura.pdf')\n",
    "plt.show()"
   ]
  },
  {
   "cell_type": "markdown",
   "metadata": {},
   "source": [
    "<div class=\"alert alert-success\">\n",
    "\n",
    "## **Ejercicio 5.**\n",
    "Modificar la función `temperatura()` para que tenga valores por omisión en los argumentos $k$ y $q$. Luego hacer pruebas llamando a la función con diferentes valores de estos argumentos.\n",
    "</div>"
   ]
  },
  {
   "cell_type": "code",
   "execution_count": null,
   "metadata": {},
   "outputs": [],
   "source": [
    "def temperatura(x, TA, TB, L, k=1000.0, q=0.0):\n",
    "    \"\"\"\n",
    "    Calcula la temperatura usando la fórmula obtenida con Series de Taylor.\n",
    "    \"\"\"\n",
    "    return ((TB - TA)/L + q /(2*k) * (L - x) ) * x + TA"
   ]
  },
  {
   "cell_type": "code",
   "execution_count": null,
   "metadata": {},
   "outputs": [],
   "source": [
    "# Datos del problema\n",
    "k = 1000\n",
    "L = 0.5\n",
    "TA = 100\n",
    "TB = 500\n",
    "q = 0\n",
    "\n",
    "# Datos numéricos\n",
    "N = 21\n",
    "x = np.linspace(0,L,N)"
   ]
  },
  {
   "cell_type": "code",
   "execution_count": null,
   "metadata": {},
   "outputs": [],
   "source": [
    "# Se usan los argumentos por omisión\n",
    "temperatura(x, TA, TB, L)"
   ]
  },
  {
   "cell_type": "code",
   "execution_count": null,
   "metadata": {},
   "outputs": [],
   "source": [
    "# Se cambia uno de los argumentos por omisión (keyword args)\n",
    "temperatura(x, TA, TB, L, k=1.0)"
   ]
  },
  {
   "cell_type": "code",
   "execution_count": null,
   "metadata": {},
   "outputs": [],
   "source": [
    "# Se cambia uno de los argumentos por omisión (keyword args)\n",
    "temperatura(x, TA, TB, L, q=5.0)"
   ]
  },
  {
   "cell_type": "code",
   "execution_count": null,
   "metadata": {},
   "outputs": [],
   "source": [
    "# Se cambian los dos argumentos por omisión (keyword args)\n",
    "temperatura(x, TA, TB, L, k=1.0, q=5.0)"
   ]
  },
  {
   "cell_type": "code",
   "execution_count": null,
   "metadata": {},
   "outputs": [],
   "source": [
    "# Se cambian los dos argumentos por omisión (positional args)\n",
    "temperatura(x, TA, TB, L, 1.0, 5.0)"
   ]
  },
  {
   "cell_type": "markdown",
   "metadata": {},
   "source": [
    "<div class=\"alert alert-success\">\n",
    "\n",
    "## **Ejercicio 6.**\n",
    "Graficar $T(x)$ para diferentes valores de $q$ usando la última versión de la función `temperatura()`.\n",
    "\n",
    "</div>"
   ]
  },
  {
   "cell_type": "code",
   "execution_count": null,
   "metadata": {},
   "outputs": [],
   "source": [
    "for q in [i*1e3 for i in range(-5,6)]:\n",
    "    print('q = ', q)\n",
    "    print(temperatura(x, TA, TB, L, k=1.0, q=q))"
   ]
  },
  {
   "cell_type": "code",
   "execution_count": null,
   "metadata": {},
   "outputs": [],
   "source": [
    "# Personalización de la gráfica\n",
    "plt.figure(figsize=(6,3))\n",
    "plt.title('Transferencia de calor')\n",
    "plt.xlabel('$x$ [m]')\n",
    "plt.ylabel('$T$ [$^oC$]')\n",
    "\n",
    "for q in [i*1e3 for i in range(-5,6)]:\n",
    "    # Realizamos la gráfica con una línea \n",
    "    plt.plot(x, temperatura(x, TA, TB, L, k=1.0, q=q), lw =1.0)"
   ]
  },
  {
   "cell_type": "code",
   "execution_count": null,
   "metadata": {},
   "outputs": [],
   "source": [
    "# Personalización de la gráfica\n",
    "plt.figure(figsize=(6,3))\n",
    "plt.title('Transferencia de calor')\n",
    "plt.xlabel('$x$ [m]')\n",
    "plt.ylabel('$T$ [$^oC$]')\n",
    "\n",
    "for q in [i*1e3 for i in range(-5,6)]:\n",
    "    # Realizamos la gráfica con una línea \n",
    "    plt.plot(x, temperatura(x, TA, TB, L, k=1.0, q=q), \n",
    "             lw =1.0, label='q = {}'.format(q))\n",
    "\n",
    "plt.legend()\n",
    "plt.grid()"
   ]
  },
  {
   "cell_type": "markdown",
   "metadata": {},
   "source": [
    "<div class=\"alert alert-success\">\n",
    "\n",
    "## **Ejercicio 7.**\n",
    "Graficar $T(x)$ para diferentes valores de $k$ y $q=1.0$ usando la última versión de la función `temperatura()`.\n",
    "\n",
    "</div>"
   ]
  },
  {
   "cell_type": "code",
   "execution_count": null,
   "metadata": {},
   "outputs": [],
   "source": [
    "# Personalización de la gráfica\n",
    "plt.figure(figsize=(6,3))\n",
    "plt.title('Transferencia de calor')\n",
    "plt.xlabel('$x$ [m]')\n",
    "plt.ylabel('$T$ [$^oC$]')\n",
    "\n",
    "for k in [1, 10, 100]:\n",
    "    # Realizamos la gráfica con una línea \n",
    "    plt.plot(x, temperatura(x, TA, TB, L, k=k, q=1e5),\n",
    "            lw =1.0, label='k = {}'.format(k))\n",
    "\n",
    "plt.legend()\n"
   ]
  },
  {
   "cell_type": "markdown",
   "metadata": {
    "id": "ZwlkKlm7G4J8"
   },
   "source": [
    "## Solución numérica\n",
    "Los ejemplos anteriores también se pueden resolver usando el método numérico conocido como diferencias finitas, el cual se obtiene también usando Series de Taylor. Veamos como:"
   ]
  },
  {
   "cell_type": "markdown",
   "metadata": {
    "id": "KBOVXfhVG4J9"
   },
   "source": [
    "### Derivadas de primer orden\n",
    "Supongamos que $u(x)$ es una función bien comportada con $n$ derivadas continuas.\n",
    "Entonces podemos escribir la siguiente serie de Taylor alrededor de $x_0$:\n",
    "\n",
    "$$\n",
    "u(x_0+h) = u(x_0) + u^\\prime(x_0)h + \\dfrac{u^{\\prime\\prime}(x_0)}{2!}h^2 + \\dots + \\dfrac{u^{(n)}(x_0)}{n!}h^n + R_n(x)\n",
    "$$ \n",
    "\n",
    "donde $h = x-x_0$ y de aquí se tiene que $x = x_0 + h$. Si truncamos el polinomio de Taylor a primer orden tenemos:\n",
    "\n",
    "$$\n",
    "u(x_0+h) = u(x_0) + u^\\prime(x_0)h + R_1(x)\n",
    "$$\n",
    "\n",
    "Luego despejamos $u^\\prime(x_0)$:\n",
    "\n",
    "$\\displaystyle\n",
    "\\begin{eqnarray}\n",
    "\\Longrightarrow u^\\prime(x_0) & = & \\frac{u(x_0+h) - u(x_0)}{h} - \\frac{R_1(x)}{h} \\\\\n",
    "\\Longrightarrow u^\\prime(x_0) & = & \\frac{u(x_0+h) - u(x_0)}{h} - \\frac{u^{\\prime\\prime}(\\xi) h^2 / 2!}{h} \\\\ \n",
    "\\Longrightarrow u^\\prime(x_0) & = & \\frac{u(x_0+h) - u(x_0)}{h} - \\frac{u^{\\prime\\prime}(\\xi)}{2} h\\\\\n",
    "\\Longrightarrow u^\\prime(x_0) & = & \\frac{u(x_0+h) - u(x_0)}{h} - \\mathcal{O}(h) \\tag{1}\\\\\n",
    "\\end{eqnarray}\n",
    "$\n",
    "\n",
    "**Observaciones**:\n",
    "1. La expresión $\\mathcal{O}(h)$ en la ecuación $(1)$ significa que el último término es de orden $h$.\n",
    "\n",
    "2. Cuando $h$ es muy pequeña podemos escribir la ecuación $(1)$ como sigue:\n",
    "\n",
    "$$\n",
    "u^\\prime(x_0) = \\lim_{h \\rightarrow 0 } \\dfrac{u(x_0+h) - u(x_0)}{h}\n",
    "$$\n",
    "\n",
    "Esta es la definición para la derivada que se ve en los libros de cálculo.\n",
    "\n",
    "3. Si eliminamos el término $\\mathcal{O}(h)$ de la ecuación $(1)$ tendremos una aproximación de la derivada, cuyo orden de aproximación es $h$:\n",
    "\n",
    "$$\n",
    "u^\\prime(x_0) \\approx \\dfrac{u(x_0+h) - u(x_0)}{h} \\tag{1}\n",
    "$$\n",
    "\n",
    "A esta aproximación se le conoce como **Diferencias Finitas hacia Adelante**."
   ]
  },
  {
   "cell_type": "markdown",
   "metadata": {
    "id": "jRufg1IPUzmZ"
   },
   "source": [
    "<div class=\"alert alert-success\">\n",
    "\n",
    "## **Ejercicio 8.**\n",
    "¿Cómo se escribe la aproximación de la derivada hacia atrás de orden $h$?\n",
    "\n",
    "**Hint**: Escriba la expansión en series de Taylor de $u(x_0-h)$ y despeje $u^\\prime(x_0)$\n",
    "\n",
    "</div>"
   ]
  },
  {
   "cell_type": "markdown",
   "metadata": {
    "id": "lZlRZLbwG4J-"
   },
   "source": [
    "### Derivadas de segundo orden\n",
    "\n",
    "Las expansiones en series de Taylor de $u(x_0 + h)$ y de $u(x_0 - h)$ son: \n",
    "\n",
    "$\\displaystyle\n",
    "u(x_0+h) = u(x_0) + u^\\prime(x_0)h + \\frac{u^{\\prime\\prime}(x_0)}{2!}h^2 + \\frac{u^{\\prime\\prime\\prime}(x_0)}{3!}h^3 + \\dots + \\frac{u^{(n)}(x_0)}{n!}h^n + R_n(x)\n",
    "$ \n",
    "\n",
    "$\\displaystyle\n",
    "u(x_0-h) = u(x_0) - u^\\prime(x_0)h + \\frac{u^{\\prime\\prime}(x_0)}{2!}h^2 - \\frac{u^{\\prime\\prime\\prime}(x_0)}{3!}h^3 + \\dots + \\frac{u^{(n)}(x_0)}{n!}h^n + R_n(x)\n",
    "$ \n",
    "\n",
    "Ahora sumamos a las dos ecuaciones para obtener:\n",
    "\n",
    "$\\displaystyle\n",
    "u(x_0+h) + u(x_0-h) = 2u(x_0) + u^{\\prime\\prime}(x_0) h^2 + \\frac{2 u^{(4)}(x_0)}{4!}h^4 + \n",
    "\\frac{2 u^{(6)}(x_0)}{6!}h^6 + \\dots + \\mathcal{O}(h^{(n+1)})$ \n",
    "\n",
    "Observamos que todos los términos de orden impar se han eliminado, esto debido a que esta aproximación es simétrica y está centrada en $x_0$. Truncamos la serie hasta orden 4 y despejamos $u^{\\prime\\prime}(x_0)$ :\n",
    "\n",
    "$\\displaystyle\n",
    "u^{\\prime\\prime}(x_0) = \\frac{u(x_0-h) - 2u(x_0) +  u(x_0+h)}{h^2} + \\mathcal{O}(h^2) \\tag{2}$ \n",
    "\n",
    "Tenemos entonces una aproximación a la segunda derivada de orden $h^2$."
   ]
  },
  {
   "cell_type": "markdown",
   "metadata": {
    "id": "pynYSs4_UzmZ"
   },
   "source": [
    "### Aproximación de la ecuación de calor\n",
    "Usando la aproximación de la segunda derivada, ecuación $(2)$, se puede escribir la  ecuación de calor\n",
    "$\n",
    "\\displaystyle\n",
    "\\kappa \\frac{d^2 T}{d x^2} = q\n",
    "$\n",
    "como sigue:\n",
    "\n",
    "$$\n",
    "\\displaystyle\n",
    "\\begin{eqnarray}\n",
    "\\kappa \\left( \\frac{T(x_0-h) - 2T(x_0) +  T(x_0+h)}{h^2} \\right) & = & q \\\\\n",
    "\\Longrightarrow T(x_0-h) - 2T(x_0) +  T(x_0+h) & = & \\frac{q h^2}{\\kappa}\n",
    "\\end{eqnarray}\n",
    "$$\n",
    "\n",
    "Lo que nos dice esta última ecuación es que se puede aproximar la temperatura en $x_0$ con un error de orden $\\mathcal{O}(h^2)$. Entonces entre más pequeño sea el $h$ mejor es la aproximación. Para obtener una solución en toda la barra, se construye una ecuación como la anterior para cada punto de la barra donde se desea conocer la temperatura."
   ]
  },
  {
   "cell_type": "markdown",
   "metadata": {
    "id": "U2eKbEGiG4J_"
   },
   "source": [
    "Los puntos estarán equidistantes de tal manera que la distancia entre ellos, $h$, se puede disminuir agregando cada vez más puntos. Obsérvese también que hay dos puntos especiales en  los extremos de la barra, donde la temperatura es conocida (condiciones de frontera).\n",
    "Si escribimos las ecuaciones para todos los puntos, digamos que tenemos $N$ puntos, entonces obtendremos un sistema lineal de ecuaciones como el siguiente:\n",
    "\n",
    "$\n",
    "\\begin{eqnarray}\n",
    "T_0 - 2T_1 + T_2  & = & -Q \\\\\n",
    "T_1 - 2T_2 + T_3 & = & -Q \\\\\n",
    "& \\vdots & \\\\\n",
    "T_{N-2} - 2T_{N-1} + T_N & = & -Q \n",
    "\\end{eqnarray}\n",
    "$\n",
    "\n",
    "donde $\\displaystyle Q = \\frac{q h^2}{\\kappa}$, $T_0 = T_A$ (temperatura en el extremo izquierdo) y $T_N = T_B$ (temperatura en el extremo derecho). \n",
    "\n",
    "Se puede escribir este sistemal en forma matricial :\n",
    "\n",
    "$\n",
    "\\left(\n",
    "\\begin{array}{ccccccccc}\n",
    "-2 & 1 & 0 & \\dots & & & 0\\\\ \n",
    " 1 &-2 & 1 & 0 & \\dots & &0\\\\ \n",
    " 0 & 1 &-2 & 1 & 0 &  & 0\\\\ \n",
    " \\vdots &\\ddots&\\ddots&\\ddots&\\ddots&\\ddots&\\vdots\\\\\n",
    "0 & \\dots & 0 & 1 &-2 & 1 & 0 \\\\\n",
    "0 &  \\dots && 0 & 1 &-2 & 1 \\\\\n",
    "0 &  \\dots &&& 0 & 1 &-2  \\\\\n",
    "\\end{array}\\right)\n",
    "\\left(\n",
    "\\begin{array}{c}\n",
    "T_1 \\\\ T_2 \\\\ T_3 \\\\ \\vdots \\\\ T_{N-3} \\\\ T_{N-2} \\\\ T_{N-1}\n",
    "\\end{array}\\right) = \n",
    "-\\left(\n",
    "\\begin{array}{c}\n",
    "Q + T_A \\\\ Q \\\\ Q \\\\ \\vdots \\\\ Q \\\\ Q \\\\ Q + T_{B}\n",
    "\\end{array}\\right)\n",
    "$\n",
    "\n",
    "Resolviendo el sistema obtendremos las temperaturas en todos los puntos y por lo tanto una aproximación a la solución. La siguiente función de Python genera el sistema lineal, lo resuelve y regresa la temperatura en los diferentes puntos de la barra:"
   ]
  },
  {
   "cell_type": "code",
   "execution_count": null,
   "metadata": {},
   "outputs": [],
   "source": [
    "# Datos del problema\n",
    "k = 1000\n",
    "L = 0.5\n",
    "TA = 100\n",
    "TB = 500\n",
    "q = 0\n",
    "\n",
    "# Datos numéricos\n",
    "N = 21"
   ]
  },
  {
   "cell_type": "code",
   "execution_count": null,
   "metadata": {},
   "outputs": [],
   "source": [
    "M = np.array([[1,2,3], \n",
    "              [4,5,6], \n",
    "              [7,8,9]])\n",
    "info_array(M)"
   ]
  },
  {
   "cell_type": "markdown",
   "metadata": {},
   "source": [
    "### Construcción de la matriz y el RHS"
   ]
  },
  {
   "cell_type": "code",
   "execution_count": null,
   "metadata": {},
   "outputs": [],
   "source": [
    "def buildMat(N):\n",
    "    A = np.zeros((N, N))\n",
    "\n",
    "    # Primer renglón\n",
    "    A[0,0] = -2\n",
    "    A[0,1] = 1\n",
    "\n",
    "    # Renglones internos\n",
    "    for i in range(1,N-1):\n",
    "        A[i,i-1] = 1\n",
    "        A[i,i]   = -2\n",
    "        A[i,i+1] = 1\n",
    "\n",
    "    # Último renglón\n",
    "    A[-1,-2] = 1\n",
    "    A[-1,-1] = -2\n",
    "    return A\n",
    "\n",
    "def buildRHS(N, q, h, k, TA, TB):\n",
    "    Q = np.zeros(N)\n",
    "    for i in range(0,N):\n",
    "        Q[i] = -q * h**2 / k\n",
    "\n",
    "    Q[0]  -= TA\n",
    "    Q[-1] -= TB\n",
    "    return Q"
   ]
  },
  {
   "cell_type": "code",
   "execution_count": null,
   "metadata": {},
   "outputs": [],
   "source": [
    "print(buildMat(5))\n",
    "print(buildRHS(5,q,L/(N-1),k,TA,TB))"
   ]
  },
  {
   "cell_type": "markdown",
   "metadata": {},
   "source": [
    "### Construcción de la matriz y el RHS (vectorizada)"
   ]
  },
  {
   "cell_type": "markdown",
   "metadata": {},
   "source": [
    "Construcción de la matriz con la función `np.eye()`"
   ]
  },
  {
   "cell_type": "code",
   "execution_count": null,
   "metadata": {},
   "outputs": [],
   "source": [
    "np.eye(5)"
   ]
  },
  {
   "cell_type": "code",
   "execution_count": null,
   "metadata": {},
   "outputs": [],
   "source": [
    "-2 * np.eye(5) + np.eye(5, k=1) + np.eye(5,k=-1)"
   ]
  },
  {
   "cell_type": "code",
   "execution_count": null,
   "metadata": {},
   "outputs": [],
   "source": [
    "def buildMat_V(N):\n",
    "    return -2 * np.eye(N) + np.eye(N,k=1) + np.eye(N,k=-1)\n",
    "\n",
    "def buildRHS_V(N, q, h, k, TA, TB):\n",
    "    Q = np.ones(N) * (-q * h**2 / k)\n",
    "    Q[0]  -= TA\n",
    "    Q[-1] -= TB\n",
    "    return Q"
   ]
  },
  {
   "cell_type": "code",
   "execution_count": null,
   "metadata": {},
   "outputs": [],
   "source": [
    "print(buildMat_V(5))\n",
    "print(buildRHS_V(5,q,L/(N-1),k,TA,TB))"
   ]
  },
  {
   "cell_type": "markdown",
   "metadata": {},
   "source": [
    "### Comparación en tiempo"
   ]
  },
  {
   "cell_type": "code",
   "execution_count": null,
   "metadata": {},
   "outputs": [],
   "source": [
    "import time\n",
    "\n",
    "N = 10000\n",
    "h = L / (N-1)\n",
    "\n",
    "tic = time.perf_counter()\n",
    "buildRHS(N,q,h,k,TA,TB)\n",
    "toc = time.perf_counter()\n",
    "print('CPU time   : {:10.9f} [s]'.format(toc - tic))\n",
    "\n",
    "tic = time.perf_counter()\n",
    "buildRHS_V(N,q,h,k,TA,TB)\n",
    "toc = time.perf_counter()\n",
    "print('CPU time(V): {:10.9f} [s]'.format(toc - tic))"
   ]
  },
  {
   "cell_type": "markdown",
   "metadata": {},
   "source": [
    "### Cálculo de la solución numérica"
   ]
  },
  {
   "cell_type": "code",
   "execution_count": null,
   "metadata": {},
   "outputs": [],
   "source": [
    "N = 5\n",
    "h = L / (N-1)\n",
    "\n",
    "# Arreglo para almacenar la solución numérica\n",
    "T = np.zeros(N)\n",
    "\n",
    "# Condiciones de frontera\n",
    "T[0] = TA\n",
    "T[-1] = TB\n",
    "\n",
    "A = buildMat(N-2)\n",
    "Q = buildRHS(N-2, q ,h , k, TA, TB)\n",
    "T[1:-1] = np.linalg.solve(A, Q)\n",
    "\n",
    "print(T)"
   ]
  },
  {
   "cell_type": "markdown",
   "metadata": {
    "id": "3-qSyQKyG4KE"
   },
   "source": [
    "<div class=\"alert alert-success\">\n",
    "\n",
    "## **Ejercicio 9.**\n",
    "Repetir el ejercicio 6 pero ahora calculando la solución numérica (vectorizada).\n",
    "\n",
    "</div>"
   ]
  },
  {
   "cell_type": "code",
   "execution_count": null,
   "metadata": {},
   "outputs": [],
   "source": [
    "N = 21\n",
    "h = L / (N-1)\n",
    "k = 1.0\n",
    "\n",
    "# Arreglo para almacenar la solución numérica\n",
    "T = np.zeros(N)\n",
    "\n",
    "# Condiciones de frontera\n",
    "T[0] = TA\n",
    "T[-1] = TB\n",
    "\n",
    "A = buildMat_V(N-2)\n",
    "\n",
    "# Personalización de la gráfica\n",
    "plt.figure(figsize=(6,3))\n",
    "plt.title('Transferencia de calor')\n",
    "plt.xlabel('$x$ [m]')\n",
    "plt.ylabel('$T$ [$^oC$]')\n",
    "\n",
    "for q in [i*1e3 for i in range(-5,6)]:\n",
    "    Q = buildRHS_V(N-2, q, h, k, TA, TB)\n",
    "    T[1:-1] = np.linalg.solve(A, Q)\n",
    "    # Realizamos la gráfica con una línea \n",
    "    plt.plot(x, T, '.', lw =1.0)\n"
   ]
  },
  {
   "cell_type": "markdown",
   "metadata": {},
   "source": [
    "<div class=\"alert alert-success\">\n",
    "\n",
    "## **Ejercicio 10.**\n",
    "Compara la solución numérica con la exacta para los casos calculados en el ejercicio 9.\n",
    "    \n",
    "</div>"
   ]
  },
  {
   "cell_type": "code",
   "execution_count": null,
   "metadata": {},
   "outputs": [],
   "source": [
    "# Personalización de la gráfica\n",
    "plt.figure(figsize=(6,3))\n",
    "plt.title('Transferencia de calor')\n",
    "plt.xlabel('$x$ [m]')\n",
    "plt.ylabel('$T$ [$^oC$]')\n",
    "\n",
    "for q in [i*1e3 for i in range(-5,6)]:\n",
    "    Q = buildRHS_V(N-2, q, h, k, TA, TB)\n",
    "    T[1:-1] = np.linalg.solve(A, Q)\n",
    "    # Realizamos la gráfica con una línea \n",
    "    plt.plot(x, T, '.', lw =1.0)\n",
    "    plt.plot(x, temperatura(x, TA, TB, L, k=1.0, q=q), c='silver',\n",
    "             lw =0.5, label='q = {}'.format(q)) "
   ]
  },
  {
   "cell_type": "code",
   "execution_count": null,
   "metadata": {},
   "outputs": [],
   "source": []
  }
 ],
 "metadata": {
  "colab": {
   "collapsed_sections": [],
   "include_colab_link": true,
   "name": "02_SeriesDeTaylor_aplicaciones.ipynb",
   "provenance": []
  },
  "kernelspec": {
   "display_name": "Python 3 (ipykernel)",
   "language": "python",
   "name": "python3"
  },
  "language_info": {
   "codemirror_mode": {
    "name": "ipython",
    "version": 3
   },
   "file_extension": ".py",
   "mimetype": "text/x-python",
   "name": "python",
   "nbconvert_exporter": "python",
   "pygments_lexer": "ipython3",
   "version": "3.11.6"
  }
 },
 "nbformat": 4,
 "nbformat_minor": 4
}
